{
 "cells": [
  {
   "cell_type": "markdown",
   "id": "ceaea3ac",
   "metadata": {},
   "source": [
    "# Ambiente GYM\n",
    "https://gymnasium.farama.org/"
   ]
  },
  {
   "cell_type": "code",
   "execution_count": 1,
   "id": "d74d0633",
   "metadata": {},
   "outputs": [
    {
     "name": "stdout",
     "output_type": "stream",
     "text": [
      "V as 4x4 matrix:\n",
      " [[0.01015825 0.00929785 0.01768505 0.01127781]\n",
      " [0.01213049 0.         0.03658819 0.        ]\n",
      " [0.02648688 0.07281767 0.13098602 0.        ]\n",
      " [0.         0.16393868 0.41979522 0.        ]]\n"
     ]
    }
   ],
   "source": [
    "# MONTE CARLO POLICY EVALUATION\n",
    "# Episódios inteiros e cálculo do valor do estado de trás para frente\n",
    "\n",
    "import gymnasium as gym\n",
    "import numpy as np\n",
    "\n",
    "# Initialise the environment and variables\n",
    "env = gym.make(\"FrozenLake-v1\", is_slippery=False)\n",
    "V = np.zeros(16) # Value function\n",
    "returns = [[] for _ in range(16)]  # List of returns for each state\n",
    "discount = 0.98\n",
    "max_episodes = 10000\n",
    "episode_counter = 0 # Episode counter\n",
    "\n",
    "def get_action(observation):\n",
    "    # Create the policy (random policy)\n",
    "    return env.action_space.sample()\n",
    "\n",
    "def value_update(trajectory):\n",
    "    # First-visit Monte Carlo update\n",
    "    global V, returns\n",
    "    visited = set()\n",
    "    G = 0\n",
    "\n",
    "    # Go backwards through the trajectory\n",
    "    for s, a, r, s1 in reversed(trajectory):\n",
    "        G = r + discount * G\n",
    "        if s not in visited:\n",
    "            returns[s].append(G)\n",
    "            V[s] = np.mean(returns[s])\n",
    "            visited.add(s)\n",
    "\n",
    "while True:\n",
    "    # Reset trajectory for the new episode\n",
    "    trajectory = []\n",
    "    observation, info = env.reset()\n",
    "    s = observation\n",
    "\n",
    "    while True:\n",
    "        action = get_action(s)\n",
    "        observation, reward, terminated, truncated, info = env.step(action)\n",
    "        s1 = observation\n",
    "        trajectory.append((s, action, reward, s1))\n",
    "        if terminated or truncated:\n",
    "            value_update(trajectory)\n",
    "            break\n",
    "        s = s1\n",
    "        \n",
    "    episode_counter += 1\n",
    "    if episode_counter >= max_episodes:\n",
    "        break\n",
    "\n",
    "env.close()\n",
    "\n",
    "print(\"V as 4x4 matrix:\\n\", V.reshape(4, 4))"
   ]
  }
 ],
 "metadata": {
  "kernelspec": {
   "display_name": "rl",
   "language": "python",
   "name": "python3"
  },
  "language_info": {
   "codemirror_mode": {
    "name": "ipython",
    "version": 3
   },
   "file_extension": ".py",
   "mimetype": "text/x-python",
   "name": "python",
   "nbconvert_exporter": "python",
   "pygments_lexer": "ipython3",
   "version": "3.10.18"
  }
 },
 "nbformat": 4,
 "nbformat_minor": 5
}
