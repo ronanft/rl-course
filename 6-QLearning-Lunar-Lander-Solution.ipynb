{
 "cells": [
  {
   "cell_type": "markdown",
   "id": "851dd6b8",
   "metadata": {},
   "source": [
    "https://gymnasium.farama.org/environments/box2d/lunar_lander/\n",
    "Implementar Q Learning para esse env.\n",
    "\n",
    "---\n",
    "## Action Space\n",
    "There are four discrete actions available:\n",
    "\n",
    "0: do nothing\n",
    "1: fire left orientation engine\n",
    "2: fire main engine\n",
    "3: fire right orientation engine\n",
    "\n",
    "## Observation Space\n",
    "The state is an 8-dimensional vector: the coordinates of the lander in x & y, its linear velocities in x & y, its angle, its angular velocity, and two booleans that represent whether each leg is in contact with the ground or not.\n",
    "\n",
    "## Rewards\n",
    "After every step a reward is granted. The total reward of an episode is the sum of the rewards for all the steps within that episode.\n",
    "For each step, the reward:\n",
    "\n",
    "is increased/decreased the closer/further the lander is to the landing pad.\n",
    "is increased/decreased the slower/faster the lander is moving.\n",
    "is decreased the more the lander is tilted (angle not horizontal).\n",
    "is increased by 10 points for each leg that is in contact with the ground.\n",
    "is decreased by 0.03 points each frame a side engine is firing.\n",
    "is decreased by 0.3 points each frame the main engine is firing.\n",
    "\n",
    "The episode receive an additional reward of -100 or +100 points for crashing or landing safely respectively.\n",
    "An episode is considered a solution if it scores at least 200 points."
   ]
  },
  {
   "cell_type": "markdown",
   "id": "6147ec15",
   "metadata": {},
   "source": [
    "## Agente de Q Learning:\n",
    "https://gymnasium.farama.org/introduction/train_agent/\n",
    "\n",
    "## Tutoriais importantes!\n",
    "https://gymnasium.farama.org/tutorials/training_agents/"
   ]
  },
  {
   "cell_type": "code",
   "execution_count": 1,
   "id": "f317bc54",
   "metadata": {},
   "outputs": [],
   "source": [
    "import gymnasium as gym\n",
    "import numpy as np\n",
    "\n",
    "env = gym.make(\"LunarLander-v3\") #, continuous=False, gravity=-10.0, enable_wind=False, wind_power=15.0, turbulence_power=1.5)"
   ]
  },
  {
   "cell_type": "code",
   "execution_count": 7,
   "id": "71e6e099",
   "metadata": {},
   "outputs": [],
   "source": [
    "# Define bins per dimension for discretization\n",
    "bins_per_dim = [6, 6, 6, 6, 6, 6, 2, 2] # num_states = 186 thousands\n",
    "num_states = np.prod(bins_per_dim)\n",
    "num_actions = env.action_space.n\n",
    "\n",
    "Q = np.zeros((num_states, num_actions))  # Q(s, a) = Q[state, action]\n",
    "\n",
    "discount = 1.0\n",
    "alpha = 0.1\n",
    "eps = .9\n",
    "max_episodes = 100000"
   ]
  },
  {
   "cell_type": "code",
   "execution_count": 3,
   "id": "abb983a9",
   "metadata": {},
   "outputs": [],
   "source": [
    "def discretize_observation(obs, bins_per_dim=None):\n",
    "    \"\"\"\n",
    "    Discretizes the LunarLander observation into a single integer index.\n",
    "    Args:\n",
    "        obs: array-like, shape (8,)\n",
    "        bins_per_dim: list or array of length 8, number of bins for each dimension\n",
    "    Returns:\n",
    "        int: unique discrete state index\n",
    "    \"\"\"\n",
    "    # Define reasonable bounds for each dimension (from env source/documentation)\n",
    "    low = np.array([-1.5, -0.5, -2.0, -2.0, -np.pi, -5.0, 0, 0])\n",
    "    high = np.array([1.5, 1.5, 2.0, 2.0, np.pi, 5.0, 1, 1])\n",
    "    obs = np.clip(obs, low, high)\n",
    "\n",
    "    if bins_per_dim is None:\n",
    "        bins_per_dim = [6, 6, 6, 6, 6, 6, 2, 2]  # 6 bins for continuous, 2 for booleans\n",
    "\n",
    "    # Discretize each dimension\n",
    "    discretized = []\n",
    "    for i in range(8):\n",
    "        if bins_per_dim[i] == 2:  # For leg contact (already 0 or 1)\n",
    "            discretized.append(int(obs[i]))\n",
    "        else:\n",
    "            bins = np.linspace(low[i], high[i], bins_per_dim[i] + 1)\n",
    "            discretized.append(np.digitize(obs[i], bins) - 1)\n",
    "            discretized[-1] = min(discretized[-1], bins_per_dim[i] - 1)  # Ensure in range\n",
    "\n",
    "    # Convert multi-dimensional bin to single integer (flattened index)\n",
    "    state_idx = 0\n",
    "    for i in range(8):\n",
    "        state_idx *= bins_per_dim[i]\n",
    "        state_idx += discretized[i]\n",
    "    return state_idx"
   ]
  },
  {
   "cell_type": "code",
   "execution_count": 4,
   "id": "bda17bd7",
   "metadata": {},
   "outputs": [],
   "source": [
    "def get_action(s):\n",
    "    if np.random.rand() < eps:\n",
    "        return env.action_space.sample()\n",
    "    else:\n",
    "        return np.argmax(Q[s])"
   ]
  },
  {
   "cell_type": "code",
   "execution_count": 5,
   "id": "855d3055",
   "metadata": {},
   "outputs": [],
   "source": [
    "def q_update(s, a, r, s1, terminated):\n",
    "    if terminated:\n",
    "        max_q1 = 0\n",
    "    else:\n",
    "        max_q1 = np.max(Q[s1])\n",
    "\n",
    "    target = r + discount * max_q1\n",
    "    Q[s, a] += alpha * (target - Q[s, a])"
   ]
  },
  {
   "cell_type": "code",
   "execution_count": 8,
   "id": "deac076d",
   "metadata": {},
   "outputs": [
    {
     "ename": "KeyboardInterrupt",
     "evalue": "",
     "output_type": "error",
     "traceback": [
      "\u001b[1;31m---------------------------------------------------------------------------\u001b[0m",
      "\u001b[1;31mKeyboardInterrupt\u001b[0m                         Traceback (most recent call last)",
      "Cell \u001b[1;32mIn[8], line 14\u001b[0m\n\u001b[0;32m     12\u001b[0m a \u001b[38;5;241m=\u001b[39m get_action(s)\n\u001b[0;32m     13\u001b[0m s1, r, terminated, truncated, _ \u001b[38;5;241m=\u001b[39m env\u001b[38;5;241m.\u001b[39mstep(a)\n\u001b[1;32m---> 14\u001b[0m s1_d \u001b[38;5;241m=\u001b[39m \u001b[43mdiscretize_observation\u001b[49m\u001b[43m(\u001b[49m\u001b[43ms1\u001b[49m\u001b[43m)\u001b[49m  \u001b[38;5;66;03m# Corrigir aqui\u001b[39;00m\n\u001b[0;32m     15\u001b[0m q_update(s, a, r, s1_d, terminated)\n\u001b[0;32m     16\u001b[0m s \u001b[38;5;241m=\u001b[39m s1_d\n",
      "Cell \u001b[1;32mIn[3], line 24\u001b[0m, in \u001b[0;36mdiscretize_observation\u001b[1;34m(obs, bins_per_dim)\u001b[0m\n\u001b[0;32m     22\u001b[0m     discretized\u001b[38;5;241m.\u001b[39mappend(\u001b[38;5;28mint\u001b[39m(obs[i]))\n\u001b[0;32m     23\u001b[0m \u001b[38;5;28;01melse\u001b[39;00m:\n\u001b[1;32m---> 24\u001b[0m     bins \u001b[38;5;241m=\u001b[39m \u001b[43mnp\u001b[49m\u001b[38;5;241;43m.\u001b[39;49m\u001b[43mlinspace\u001b[49m\u001b[43m(\u001b[49m\u001b[43mlow\u001b[49m\u001b[43m[\u001b[49m\u001b[43mi\u001b[49m\u001b[43m]\u001b[49m\u001b[43m,\u001b[49m\u001b[43m \u001b[49m\u001b[43mhigh\u001b[49m\u001b[43m[\u001b[49m\u001b[43mi\u001b[49m\u001b[43m]\u001b[49m\u001b[43m,\u001b[49m\u001b[43m \u001b[49m\u001b[43mbins_per_dim\u001b[49m\u001b[43m[\u001b[49m\u001b[43mi\u001b[49m\u001b[43m]\u001b[49m\u001b[43m \u001b[49m\u001b[38;5;241;43m+\u001b[39;49m\u001b[43m \u001b[49m\u001b[38;5;241;43m1\u001b[39;49m\u001b[43m)\u001b[49m\n\u001b[0;32m     25\u001b[0m     discretized\u001b[38;5;241m.\u001b[39mappend(np\u001b[38;5;241m.\u001b[39mdigitize(obs[i], bins) \u001b[38;5;241m-\u001b[39m \u001b[38;5;241m1\u001b[39m)\n\u001b[0;32m     26\u001b[0m     discretized[\u001b[38;5;241m-\u001b[39m\u001b[38;5;241m1\u001b[39m] \u001b[38;5;241m=\u001b[39m \u001b[38;5;28mmin\u001b[39m(discretized[\u001b[38;5;241m-\u001b[39m\u001b[38;5;241m1\u001b[39m], bins_per_dim[i] \u001b[38;5;241m-\u001b[39m \u001b[38;5;241m1\u001b[39m)  \u001b[38;5;66;03m# Ensure in range\u001b[39;00m\n",
      "File \u001b[1;32m<__array_function__ internals>:180\u001b[0m, in \u001b[0;36mlinspace\u001b[1;34m(*args, **kwargs)\u001b[0m\n",
      "File \u001b[1;32mc:\\Users\\ronan\\anaconda3\\envs\\rl\\lib\\site-packages\\numpy\\core\\function_base.py:135\u001b[0m, in \u001b[0;36mlinspace\u001b[1;34m(start, stop, num, endpoint, retstep, dtype, axis)\u001b[0m\n\u001b[0;32m    132\u001b[0m     dtype \u001b[38;5;241m=\u001b[39m dt\n\u001b[0;32m    134\u001b[0m delta \u001b[38;5;241m=\u001b[39m stop \u001b[38;5;241m-\u001b[39m start\n\u001b[1;32m--> 135\u001b[0m y \u001b[38;5;241m=\u001b[39m \u001b[43m_nx\u001b[49m\u001b[38;5;241;43m.\u001b[39;49m\u001b[43marange\u001b[49m\u001b[43m(\u001b[49m\u001b[38;5;241;43m0\u001b[39;49m\u001b[43m,\u001b[49m\u001b[43m \u001b[49m\u001b[43mnum\u001b[49m\u001b[43m,\u001b[49m\u001b[43m \u001b[49m\u001b[43mdtype\u001b[49m\u001b[38;5;241;43m=\u001b[39;49m\u001b[43mdt\u001b[49m\u001b[43m)\u001b[49m\u001b[38;5;241m.\u001b[39mreshape((\u001b[38;5;241m-\u001b[39m\u001b[38;5;241m1\u001b[39m,) \u001b[38;5;241m+\u001b[39m (\u001b[38;5;241m1\u001b[39m,) \u001b[38;5;241m*\u001b[39m ndim(delta))\n\u001b[0;32m    136\u001b[0m \u001b[38;5;66;03m# In-place multiplication y *= delta/div is faster, but prevents the multiplicant\u001b[39;00m\n\u001b[0;32m    137\u001b[0m \u001b[38;5;66;03m# from overriding what class is produced, and thus prevents, e.g. use of Quantities,\u001b[39;00m\n\u001b[0;32m    138\u001b[0m \u001b[38;5;66;03m# see gh-7142. Hence, we multiply in place only for standard scalar types.\u001b[39;00m\n\u001b[0;32m    139\u001b[0m _mult_inplace \u001b[38;5;241m=\u001b[39m _nx\u001b[38;5;241m.\u001b[39misscalar(delta)\n",
      "\u001b[1;31mKeyboardInterrupt\u001b[0m: "
     ]
    }
   ],
   "source": [
    "import time  # Add timing\n",
    "start_time = time.time()\n",
    "for episode in range(max_episodes):\n",
    "    observation, _ = env.reset()\n",
    "    s = discretize_observation(observation) # Continuous to discrete\n",
    "\n",
    "    # Make epsilon decay according to episode counter\n",
    "    if eps > 0.01:\n",
    "        eps *= 0.99\n",
    "    \n",
    "    while True:\n",
    "        a = get_action(s)\n",
    "        s1, r, terminated, truncated, _ = env.step(a)\n",
    "        s1_d = discretize_observation(s1)  # Corrigir aqui\n",
    "        q_update(s, a, r, s1_d, terminated)\n",
    "        s = s1_d\n",
    "        if terminated or truncated:\n",
    "            break\n",
    "\n",
    "env.close()\n",
    "end_time = time.time()\n",
    "print(f\"Training time: {end_time - start_time:.2f} seconds\")"
   ]
  },
  {
   "attachments": {
    "image.png": {
     "image/png": "[encoded data removed]"
    }
   },
   "cell_type": "markdown",
   "id": "de0484f0",
   "metadata": {},
   "source": [
    "![image.png](attachment:image.png)\n",
    "Muitos minutos e não terminou de rodar... Tentamos 1 Mi de episódios e baixamos para 100k e nada!\n",
    "\n"
   ]
  },
  {
   "cell_type": "markdown",
   "id": "6cd8be37",
   "metadata": {},
   "source": [
    "---\n",
    "## Q-Learning no ambiente Taxi-v3"
   ]
  },
  {
   "cell_type": "code",
   "execution_count": 16,
   "id": "0a410189",
   "metadata": {},
   "outputs": [],
   "source": [
    "import gymnasium as gym\n",
    "import numpy as np\n",
    "\n",
    "env_taxi = gym.make('Taxi-v3')\n",
    "num_states_taxi = env_taxi.observation_space.n\n",
    "num_actions_taxi = env_taxi.action_space.n\n",
    "\n",
    "Q_taxi = np.zeros((num_states_taxi, num_actions_taxi))\n",
    "\n",
    "discount_taxi = 0.99\n",
    "alpha_taxi = 0.1\n",
    "eps_taxi = 0.9\n",
    "max_episodes_taxi = 10000"
   ]
  },
  {
   "cell_type": "code",
   "execution_count": 17,
   "id": "053995fb",
   "metadata": {},
   "outputs": [],
   "source": [
    "def get_action_taxi(s):\n",
    "    if np.random.rand() < eps_taxi:\n",
    "        return env_taxi.action_space.sample()\n",
    "    else:\n",
    "        return np.argmax(Q_taxi[s])"
   ]
  },
  {
   "cell_type": "code",
   "execution_count": 18,
   "id": "04788359",
   "metadata": {},
   "outputs": [],
   "source": [
    "def q_update_taxi(s, a, r, s1, terminated):\n",
    "    if terminated:\n",
    "        max_q1 = 0\n",
    "    else:\n",
    "        max_q1 = np.max(Q_taxi[s1])\n",
    "    target = r + discount_taxi * max_q1\n",
    "    Q_taxi[s, a] += alpha_taxi * (target - Q_taxi[s, a])"
   ]
  },
  {
   "cell_type": "code",
   "execution_count": 19,
   "id": "ff4db91f",
   "metadata": {},
   "outputs": [
    {
     "name": "stdout",
     "output_type": "stream",
     "text": [
      "Taxi-v3 training time: 2.34 seconds\n"
     ]
    }
   ],
   "source": [
    "import time\n",
    "start_time = time.time()\n",
    "for episode in range(max_episodes_taxi):\n",
    "    s, _ = env_taxi.reset()\n",
    "    if eps_taxi > 0.01:\n",
    "        eps_taxi *= 0.995\n",
    "    while True:\n",
    "        a = get_action_taxi(s)\n",
    "        s1, r, terminated, truncated, _ = env_taxi.step(a)\n",
    "        q_update_taxi(s, a, r, s1, terminated)\n",
    "        s = s1\n",
    "        if terminated or truncated:\n",
    "            break\n",
    "env_taxi.close()\n",
    "end_time = time.time()\n",
    "print(f\"Taxi-v3 training time: {end_time - start_time:.2f} seconds\")"
   ]
  },
  {
   "cell_type": "code",
   "execution_count": 20,
   "id": "acca8476",
   "metadata": {},
   "outputs": [
    {
     "name": "stdout",
     "output_type": "stream",
     "text": [
      "Episódio 1: recompensa total = 8\n",
      "Episódio 2: recompensa total = 9\n",
      "Episódio 3: recompensa total = 8\n",
      "Episódio 4: recompensa total = 5\n",
      "Episódio 5: recompensa total = 12\n"
     ]
    }
   ],
   "source": [
    "import time\n",
    "\n",
    "# Executa o modelo treinado no Taxi-v3 por 5 episódios com renderização\n",
    "env_taxi = gym.make('Taxi-v3', render_mode='human')\n",
    "for ep in range(5):\n",
    "    s, _ = env_taxi.reset()\n",
    "    done = False\n",
    "    total_reward = 0\n",
    "    while not done:\n",
    "        a = np.argmax(Q_taxi[s])\n",
    "        s, r, terminated, truncated, _ = env_taxi.step(a)\n",
    "        total_reward += r\n",
    "        done = terminated or truncated\n",
    "        time.sleep(0.5)  # Para visualizar melhor cada passo\n",
    "    print(f\"Episódio {ep+1}: recompensa total = {total_reward}\")\n",
    "env_taxi.close()"
   ]
  }
 ],
 "metadata": {
  "kernelspec": {
   "display_name": "rl",
   "language": "python",
   "name": "python3"
  },
  "language_info": {
   "codemirror_mode": {
    "name": "ipython",
    "version": 3
   },
   "file_extension": ".py",
   "mimetype": "text/x-python",
   "name": "python",
   "nbconvert_exporter": "python",
   "pygments_lexer": "ipython3",
   "version": "3.10.18"
  }
 },
 "nbformat": 4,
 "nbformat_minor": 5
}
