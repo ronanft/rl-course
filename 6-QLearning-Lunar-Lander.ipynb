{
 "cells": [
  {
   "cell_type": "markdown",
   "id": "482459dd",
   "metadata": {},
   "source": [
    "# Tarefa!"
   ]
  },
  {
   "cell_type": "markdown",
   "id": "851dd6b8",
   "metadata": {},
   "source": [
    "Tente implementar Q Learning para esse env.\n",
    "\n",
    "Quais os desafios? É igual implementar para o ambiente do Gridworld? É necessário fazer alguma adaptação?\n",
    "\n",
    "Feita a adaptação, ainda é possível rodar o algoritmo?\n",
    "\n",
    "---\n",
    "\n",
    "![Lunar Lander](https://gymnasium.farama.org/_images/lunar_lander.gif)\n",
    "\n",
    "https://gymnasium.farama.org/environments/box2d/lunar_lander/\n",
    "\n",
    "\n",
    "## Action Space\n",
    "There are four discrete actions available:\n",
    "\n",
    "0: do nothing\n",
    "1: fire left orientation engine\n",
    "2: fire main engine\n",
    "3: fire right orientation engine\n",
    "\n",
    "## Observation Space\n",
    "The state is an 8-dimensional vector: the coordinates of the lander in x & y, its linear velocities in x & y, its angle, its angular velocity, and two booleans that represent whether each leg is in contact with the ground or not.\n",
    "\n",
    "## Rewards\n",
    "After every step a reward is granted. The total reward of an episode is the sum of the rewards for all the steps within that episode.\n",
    "For each step, the reward:\n",
    "\n",
    "is increased/decreased the closer/further the lander is to the landing pad.\n",
    "is increased/decreased the slower/faster the lander is moving.\n",
    "is decreased the more the lander is tilted (angle not horizontal).\n",
    "is increased by 10 points for each leg that is in contact with the ground.\n",
    "is decreased by 0.03 points each frame a side engine is firing.\n",
    "is decreased by 0.3 points each frame the main engine is firing.\n",
    "\n",
    "The episode receive an additional reward of -100 or +100 points for crashing or landing safely respectively.\n",
    "An episode is considered a solution if it scores at least 200 points."
   ]
  },
  {
   "cell_type": "markdown",
   "id": "76b40126",
   "metadata": {},
   "source": [
    "---\n",
    "### Pode usar o chatgpt para funções helper, mas não para o criar o agente!"
   ]
  },
  {
   "cell_type": "markdown",
   "id": "3570f775",
   "metadata": {},
   "source": [
    "Essa tarefa tem um macete para ser concretizada! Precisaremos lançar mão de uma função ainda não usada aqui..."
   ]
  }
 ],
 "metadata": {
  "language_info": {
   "name": "python"
  }
 },
 "nbformat": 4,
 "nbformat_minor": 5
}
