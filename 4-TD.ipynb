{
 "cells": [
  {
   "cell_type": "code",
   "execution_count": null,
   "id": "d74d0633",
   "metadata": {},
   "outputs": [
    {
     "name": "stdout",
     "output_type": "stream",
     "text": [
      "TD(0) estimated V: [[0.00958041 0.00533317 0.01205858 0.00574077]\n",
      " [0.019581   0.         0.01574575 0.        ]\n",
      " [0.0421646  0.11507326 0.23983211 0.        ]\n",
      " [0.         0.26746474 0.50812652 0.        ]]\n"
     ]
    }
   ],
   "source": [
    "# TEMPORAL DIFFERENCE\n",
    "# Bootstrap: update value estimate from estimate of next state\n",
    "\n",
    "import gymnasium as gym\n",
    "import numpy as np\n",
    "from collections import defaultdict\n",
    "\n",
    "env = gym.make(\"FrozenLake-v1\", is_slippery=False)\n",
    "V = np.zeros(16)\n",
    "discount = 0.98\n",
    "alpha = 0.1\n",
    "max_episodes = 10000\n",
    "\n",
    "def get_action(observation):\n",
    "    return env.action_space.sample()  # Random policy\n",
    "\n",
    "def value_update(s, r, s1, terminated):\n",
    "    # target = r + discount * V[s1]\n",
    "    target = r if terminated else r + discount * V[s1] # prevent overestimation of terminal state\n",
    "    V[s] += alpha * (target - V[s]) # Complete equation: V[s] += alpha * ((r + discount * V[s1]) - V[s])\n",
    "\n",
    "for episode in range(max_episodes):\n",
    "    observation, _ = env.reset()\n",
    "    s = observation\n",
    "\n",
    "    while True:\n",
    "        a = get_action(s)\n",
    "        s1, r, terminated, truncated, _ = env.step(a)\n",
    "\n",
    "        value_update(s, r, s1, terminated)\n",
    "        s = s1\n",
    "        if terminated or truncated:\n",
    "            break\n",
    "\n",
    "env.close()\n",
    "\n",
    "print(\"TD(0) estimated V:\", V.reshape(4, 4))\n"
   ]
  },
  {
   "cell_type": "markdown",
   "id": "12dc9de9",
   "metadata": {},
   "source": [
    "---\n",
    "# Add slippery!"
   ]
  },
  {
   "cell_type": "code",
   "execution_count": 2,
   "id": "17a28ce5",
   "metadata": {},
   "outputs": [
    {
     "name": "stdout",
     "output_type": "stream",
     "text": [
      "TD(0) estimated V: \n",
      " [[0.01608955 0.01652994 0.03060527 0.01689222]\n",
      " [0.01541354 0.         0.07764232 0.        ]\n",
      " [0.03990404 0.08405939 0.22297441 0.        ]\n",
      " [0.         0.15660195 0.5208239  0.        ]]\n"
     ]
    }
   ],
   "source": [
    "# TEMPORAL DIFFERENCE\n",
    "# Bootstrap: update value estimate from estimate of next state\n",
    "\n",
    "import gymnasium as gym\n",
    "import numpy as np\n",
    "from collections import defaultdict\n",
    "\n",
    "env = gym.make(\"FrozenLake-v1\", is_slippery=True)\n",
    "V = np.zeros(16)\n",
    "discount = 0.98\n",
    "alpha = 0.1\n",
    "max_episodes = 10000\n",
    "\n",
    "def get_action(observation):\n",
    "    return env.action_space.sample()  # Random policy\n",
    "\n",
    "def value_update(s, r, s1, terminated):\n",
    "    target = r if terminated else r + discount * V[s1] # prevent overestimation of terminal state\n",
    "    V[s] += alpha * (target - V[s]) #  V[s] += alpha * ((r + discount * V[s1]) - V[s])\n",
    "\n",
    "for episode in range(max_episodes):\n",
    "    observation, _ = env.reset()\n",
    "    s = observation\n",
    "\n",
    "    while True:\n",
    "        a = get_action(s)\n",
    "        s1, r, terminated, truncated, _ = env.step(a)\n",
    "\n",
    "        value_update(s, r, s1, terminated)\n",
    "        s = s1\n",
    "        if terminated or truncated:\n",
    "            break\n",
    "\n",
    "env.close()\n",
    "\n",
    "print(\"TD(0) estimated V: \\n\", V.reshape(4, 4))\n"
   ]
  }
 ],
 "metadata": {
  "kernelspec": {
   "display_name": "rl",
   "language": "python",
   "name": "python3"
  },
  "language_info": {
   "codemirror_mode": {
    "name": "ipython",
    "version": 3
   },
   "file_extension": ".py",
   "mimetype": "text/x-python",
   "name": "python",
   "nbconvert_exporter": "python",
   "pygments_lexer": "ipython3",
   "version": "3.10.18"
  }
 },
 "nbformat": 4,
 "nbformat_minor": 5
}
