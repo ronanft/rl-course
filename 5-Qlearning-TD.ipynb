{
 "cells": [
  {
   "cell_type": "code",
   "execution_count": null,
   "id": "d74d0633",
   "metadata": {},
   "outputs": [
    {
     "name": "stdout",
     "output_type": "stream",
     "text": [
      "Q-Learning value: \n",
      "\n",
      "[[0.94148015 0.95099005 0.95099005 0.94148015]\n",
      " [0.6460337  0.         0.96059601 0.56443795]\n",
      " [0.32704442 0.970299   0.04973615 0.6005577 ]\n",
      " [0.33034705 0.         0.         0.        ]\n",
      " [0.95099005 0.96059601 0.         0.94148015]\n",
      " [0.         0.         0.         0.        ]\n",
      " [0.         0.9801     0.         0.570998  ]\n",
      " [0.         0.         0.         0.        ]\n",
      " [0.96059601 0.         0.970299   0.95099005]\n",
      " [0.96059601 0.96059601 0.9801     0.        ]\n",
      " [0.970299   0.99       0.         0.970299  ]\n",
      " [0.         0.         0.         0.        ]\n",
      " [0.         0.         0.         0.        ]\n",
      " [0.         0.58835239 0.78616778 0.970299  ]\n",
      " [0.96059601 0.99       1.         0.9801    ]\n",
      " [0.         0.         0.         0.        ]]\n"
     ]
    }
   ],
   "source": [
    "# Q-LEARNING (TEMPORAL DIFFERENCE)\n",
    "# Bootstrap: update action value estimate from estimate of MAX of next state\n",
    "\n",
    "import gymnasium as gym\n",
    "import numpy as np\n",
    "from collections import defaultdict\n",
    "\n",
    "env = gym.make(\"FrozenLake-v1\", is_slippery=False)\n",
    "discount = 0.99\n",
    "alpha = 0.1\n",
    "eps = 0.1\n",
    "max_episodes = 10000\n",
    "\n",
    "n_states = env.observation_space.n\n",
    "Q = np.zeros((n_states, env.action_space.n))\n",
    "\n",
    "def get_action(observation):\n",
    "    if np.random.rand() < eps:\n",
    "        return env.action_space.sample()\n",
    "    else:\n",
    "        max_q = np.max(Q[observation])\n",
    "        best_actions = np.flatnonzero(Q[observation] == max_q)\n",
    "        return np.random.choice(best_actions)\n",
    "\n",
    "\n",
    "def value_update(s, a, r, s1, terminated):\n",
    "    # target = r + discount * np.max(Q[s1])\n",
    "    target = r if terminated else r + discount * np.max(Q[s1])\n",
    "    Q[s, a] += alpha * (target - Q[s, a])\n",
    "\n",
    "for episode in range(max_episodes):\n",
    "    observation, _ = env.reset()\n",
    "    s = observation\n",
    "\n",
    "    while True:\n",
    "        a = get_action(s)\n",
    "        s1, r, terminated, truncated, _ = env.step(a)\n",
    "\n",
    "        value_update(s, a, r, s1, terminated)\n",
    "        s = s1\n",
    "        if terminated or truncated:\n",
    "            break\n",
    "\n",
    "env.close()\n",
    "\n",
    "print(\"Q-Learning value: \\n\")\n",
    "print(Q)\n"
   ]
  },
  {
   "cell_type": "code",
   "execution_count": 2,
   "id": "33d54811",
   "metadata": {},
   "outputs": [
    {
     "data": {
      "text/plain": [
       "array([[1, 2, 1, 0],\n",
       "       [1, 0, 1, 0],\n",
       "       [2, 2, 1, 0],\n",
       "       [0, 3, 2, 0]], dtype=int64)"
      ]
     },
     "execution_count": 2,
     "metadata": {},
     "output_type": "execute_result"
    }
   ],
   "source": [
    "np.argmax(Q, axis=1).reshape(4, 4)"
   ]
  }
 ],
 "metadata": {
  "kernelspec": {
   "display_name": "rl",
   "language": "python",
   "name": "python3"
  },
  "language_info": {
   "codemirror_mode": {
    "name": "ipython",
    "version": 3
   },
   "file_extension": ".py",
   "mimetype": "text/x-python",
   "name": "python",
   "nbconvert_exporter": "python",
   "pygments_lexer": "ipython3",
   "version": "3.10.18"
  }
 },
 "nbformat": 4,
 "nbformat_minor": 5
}
